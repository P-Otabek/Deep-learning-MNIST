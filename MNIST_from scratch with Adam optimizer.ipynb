{
 "cells": [
  {
   "cell_type": "markdown",
   "id": "fbd90e00",
   "metadata": {},
   "source": [
    "### MNIST Image classification using MLP\n",
    "The original code was taken from kaggle with some changes and improved with ChatGPT to use Adam Optimizer (originally optimization function was Gradient Descent) and to make it more dynamic (additional layers can be added to increase accuracy, beware of overfitting though)."
   ]
  },
  {
   "cell_type": "code",
   "execution_count": 23,
   "id": "96fdddeb",
   "metadata": {},
   "outputs": [],
   "source": [
    "import numpy as np\n",
    "import pandas as pd\n",
    "from matplotlib import pyplot as plt"
   ]
  },
  {
   "cell_type": "code",
   "execution_count": 24,
   "id": "9d053f58",
   "metadata": {},
   "outputs": [],
   "source": [
    "data = pd.read_csv('train.csv')\n",
    "data.head()\n",
    "data = np.array(data)\n",
    "m, n = data.shape\n",
    "np.random.shuffle(data) # shuffle before splitting into dev and training sets\n",
    "\n",
    "data_dev = data[0:1000].T\n",
    "Y_dev = data_dev[0]\n",
    "X_dev = data_dev[1:n]\n",
    "X_dev = X_dev / 255.\n",
    "\n",
    "data_train = data[1000:m].T\n",
    "Y_train = data_train[0]\n",
    "X_train = data_train[1:n]\n",
    "X_train = X_train / 255.\n",
    "_,m_train = X_train.shape"
   ]
  },
  {
   "cell_type": "code",
   "execution_count": 25,
   "id": "b16438b9",
   "metadata": {},
   "outputs": [],
   "source": [
    "class NeuralNetwork:\n",
    "    def __init__(self, layer_dims):\n",
    "        self.parameters = {}\n",
    "        self.L = len(layer_dims)  # number of layers in the network\n",
    "        self.m = None  # will be set during training\n",
    "        self.layer_dims = layer_dims\n",
    "        self.v = {}\n",
    "        self.s = {}\n",
    "        \n",
    "        # Initialize parameters and Adam variables\n",
    "        for l in range(1, self.L):\n",
    "            self.parameters[\"W\" + str(l)] = np.random.randn(layer_dims[l], layer_dims[l-1]) * 0.01\n",
    "            self.parameters[\"b\" + str(l)] = np.zeros((layer_dims[l], 1))\n",
    "            \n",
    "            self.v[\"dW\" + str(l)] = np.zeros((layer_dims[l], layer_dims[l-1]))\n",
    "            self.v[\"db\" + str(l)] = np.zeros((layer_dims[l], 1))\n",
    "            \n",
    "            self.s[\"dW\" + str(l)] = np.zeros((layer_dims[l], layer_dims[l-1]))\n",
    "            self.s[\"db\" + str(l)] = np.zeros((layer_dims[l], 1))\n",
    "    \n",
    "    @staticmethod\n",
    "    def ReLU(Z):\n",
    "        return np.maximum(Z, 0)\n",
    "    \n",
    "    @staticmethod\n",
    "    def softmax(Z):\n",
    "        expZ = np.exp(Z - np.max(Z))  # for numerical stability\n",
    "        return expZ / expZ.sum(axis=0, keepdims=True)\n",
    "    \n",
    "    @staticmethod\n",
    "    def ReLU_deriv(Z):\n",
    "        return Z > 0\n",
    "    \n",
    "    @staticmethod\n",
    "    def one_hot(Y):\n",
    "        one_hot_Y = np.zeros((Y.size, Y.max() + 1))\n",
    "        one_hot_Y[np.arange(Y.size), Y] = 1\n",
    "        one_hot_Y = one_hot_Y.T\n",
    "        return one_hot_Y\n",
    "    \n",
    "    def forward_prop(self, X):\n",
    "        caches = {}\n",
    "        A = X\n",
    "        caches[\"A0\"] = X\n",
    "        \n",
    "        # ReLU activations for layers 1 to L-1\n",
    "        for l in range(1, self.L-1):\n",
    "            Z = self.parameters[\"W\" + str(l)].dot(A) + self.parameters[\"b\" + str(l)]\n",
    "            A = self.ReLU(Z)\n",
    "            caches[\"A\" + str(l)] = A\n",
    "            caches[\"Z\" + str(l)] = Z\n",
    "        \n",
    "        # Softmax activation for the last layer\n",
    "        ZL = self.parameters[\"W\" + str(self.L-1)].dot(A) + self.parameters[\"b\" + str(self.L-1)]\n",
    "        AL = self.softmax(ZL)\n",
    "        caches[\"A\" + str(self.L-1)] = AL\n",
    "        caches[\"Z\" + str(self.L-1)] = ZL\n",
    "        \n",
    "        return AL, caches\n",
    "    \n",
    "    def backward_prop(self, AL, Y, caches):\n",
    "        grads = {}\n",
    "        one_hot_Y = self.one_hot(Y)\n",
    "        \n",
    "        # Starting the backpropagation\n",
    "        dZ = AL - one_hot_Y\n",
    "        grads[\"dW\" + str(self.L-1)] = 1/self.m * dZ.dot(caches[\"A\" + str(self.L-2)].T)\n",
    "        grads[\"db\" + str(self.L-1)] = 1/self.m * np.sum(dZ, axis=1, keepdims=True)\n",
    "        \n",
    "        for l in reversed(range(1, self.L-1)):\n",
    "            dZ_next = dZ\n",
    "            dZ = self.parameters[\"W\" + str(l+1)].T.dot(dZ_next) * self.ReLU_deriv(caches[\"Z\" + str(l)])\n",
    "            grads[\"dW\" + str(l)] = 1/self.m * dZ.dot(caches[\"A\" + str(l-1)].T)\n",
    "            grads[\"db\" + str(l)] = 1/self.m * np.sum(dZ, axis=1, keepdims=True)\n",
    "        \n",
    "        return grads\n",
    "    \n",
    "    def update_params_with_adam(self, grads, alpha, t, beta1=0.9, beta2=0.999, epsilon=1e-8):\n",
    "        for l in range(1, self.L):\n",
    "            # Moving average of the gradients\n",
    "            self.v[\"dW\" + str(l)] = beta1 * self.v[\"dW\" + str(l)] + (1 - beta1) * grads[\"dW\" + str(l)]\n",
    "            self.v[\"db\" + str(l)] = beta1 * self.v[\"db\" + str(l)] + (1 - beta1) * grads[\"db\" + str(l)]\n",
    "            \n",
    "            # Compute bias-corrected first moment estimate\n",
    "            v_corrected_dW = self.v[\"dW\" + str(l)] / (1 - beta1**t)\n",
    "            v_corrected_db = self.v[\"db\" + str(l)] / (1 - beta1**t)\n",
    "            \n",
    "            # Moving average of the squared gradients\n",
    "            self.s[\"dW\" + str(l)] = beta2 * self.s[\"dW\" + str(l)] + (1 - beta2) * (grads[\"dW\" + str(l)]**2)\n",
    "            self.s[\"db\" + str(l)] = beta2 * self.s[\"db\" + str(l)] + (1 - beta2) * (grads[\"db\" + str(l)]**2)\n",
    "            \n",
    "            # Compute bias-corrected second raw moment estimate\n",
    "            s_corrected_dW = self.s[\"dW\" + str(l)] / (1 - beta2**t)\n",
    "            s_corrected_db = self.s[\"db\" + str(l)] / (1 - beta2**t)\n",
    "            \n",
    "            # Update parameters\n",
    "            self.parameters[\"W\" + str(l)] -= alpha * v_corrected_dW / (np.sqrt(s_corrected_dW) + epsilon)\n",
    "            self.parameters[\"b\" + str(l)] -= alpha * v_corrected_db / (np.sqrt(s_corrected_db) + epsilon)\n",
    "    \n",
    "    def train(self, X, Y, alpha, iterations):\n",
    "        self.m = X.shape[1]\n",
    "        \n",
    "        for i in range(1, iterations+1):\n",
    "            AL, caches = self.forward_prop(X)\n",
    "            grads = self.backward_prop(AL, Y, caches)\n",
    "            self.update_params_with_adam(grads, alpha, i)\n",
    "            \n",
    "            if i % 20 == 0:\n",
    "                predictions = self.get_predictions(AL)\n",
    "                accuracy = self.get_accuracy(predictions, Y)\n",
    "                print(f\"Iteration {i} - Accuracy: {accuracy}\")\n",
    "    \n",
    "    @staticmethod\n",
    "    def get_predictions(A):\n",
    "        return np.argmax(A, axis=0)\n",
    "    \n",
    "    @staticmethod\n",
    "    def get_accuracy(predictions, Y):\n",
    "        return np.sum(predictions == Y) / Y.size\n",
    "    \n",
    "    def make_predictions(self, X):\n",
    "        AL, _ = self.forward_prop(X)\n",
    "        predictions = self.get_predictions(AL)\n",
    "        return predictions\n",
    "\n",
    "    def compute_accuracy(self, X, Y):\n",
    "        predictions = self.make_predictions(X)\n",
    "        return self.get_accuracy(predictions, Y)\n",
    "    def compute_loss(self, AL, Y):\n",
    "        \"\"\"\n",
    "        Compute the cross-entropy loss.\n",
    "        \n",
    "        Parameters:\n",
    "        - AL: Activations from the last layer, representing probability vector corresponding to label predictions.\n",
    "        - Y: True labels vector.\n",
    "        \n",
    "        Returns:\n",
    "        - Cross-entropy loss.\n",
    "        \"\"\"\n",
    "        one_hot_Y = self.one_hot(Y)\n",
    "        m = Y.size\n",
    "        loss = -1/m * np.sum(one_hot_Y * np.log(AL + 1e-8))  # adding a small value to avoid log(0)\n",
    "        return loss\n",
    "    def compute_loss_on_dataset(self, X, Y):\n",
    "        \"\"\"\n",
    "        Compute the loss on a given dataset.\n",
    "        \n",
    "        Parameters:\n",
    "        - X: Input data.\n",
    "        - Y: True labels vector.\n",
    "        \n",
    "        Returns:\n",
    "        - Cross-entropy loss.\n",
    "        \"\"\"\n",
    "        AL, _ = self.forward_prop(X)\n",
    "        return self.compute_loss(AL, Y)\n",
    "    \n",
    "def test_prediction(index, model):\n",
    "    current_image = X_train[:, index, None]\n",
    "    prediction = model.make_predictions(current_image)\n",
    "    label = Y_train[index]\n",
    "    print(\"Prediction: \", prediction)\n",
    "    print(\"Label: \", label)\n",
    "    \n",
    "    current_image = current_image.reshape((28, 28)) * 255\n",
    "    plt.gray()\n",
    "    plt.imshow(current_image, interpolation='nearest')\n",
    "    plt.show()\n",
    "\n"
   ]
  },
  {
   "cell_type": "code",
   "execution_count": 26,
   "id": "fdcb487d",
   "metadata": {},
   "outputs": [
    {
     "name": "stdout",
     "output_type": "stream",
     "text": [
      "Iteration 20 - Accuracy: 0.5396341463414634\n",
      "Iteration 40 - Accuracy: 0.782219512195122\n",
      "Iteration 60 - Accuracy: 0.8672439024390244\n",
      "Iteration 80 - Accuracy: 0.8977560975609756\n",
      "Iteration 100 - Accuracy: 0.9124634146341464\n",
      "Iteration 120 - Accuracy: 0.9236585365853659\n",
      "Iteration 140 - Accuracy: 0.9318780487804879\n",
      "Iteration 160 - Accuracy: 0.9394634146341463\n",
      "Iteration 180 - Accuracy: 0.9463170731707317\n",
      "Iteration 200 - Accuracy: 0.9527560975609756\n"
     ]
    }
   ],
   "source": [
    "nn = NeuralNetwork([784, 128, 128, 10])\n",
    "nn.train(X_train, Y_train, alpha=0.001, iterations=201) "
   ]
  },
  {
   "cell_type": "code",
   "execution_count": 27,
   "id": "9a986b5f",
   "metadata": {},
   "outputs": [
    {
     "name": "stdout",
     "output_type": "stream",
     "text": [
      "Prediction:  [0]\n",
      "Label:  0\n"
     ]
    },
    {
     "data": {
      "image/png": "[encoded data removed]",
      "text/plain": [
       "<Figure size 640x480 with 1 Axes>"
      ]
     },
     "metadata": {},
     "output_type": "display_data"
    }
   ],
   "source": [
    "test_prediction(6, nn)  # Test prediction for the 6th example in the training set"
   ]
  },
  {
   "cell_type": "code",
   "execution_count": 28,
   "id": "ec8469b7",
   "metadata": {},
   "outputs": [
    {
     "name": "stdout",
     "output_type": "stream",
     "text": [
      "Accuracy on test dataset: 93.30%\n",
      "Loss on test dataset: 19.00%\n"
     ]
    }
   ],
   "source": [
    "test_accuracy = nn.compute_accuracy(X_dev, Y_dev)\n",
    "print(f\"Accuracy on test dataset: {test_accuracy * 100:.2f}%\")\n",
    "test_loss = nn.compute_loss_on_dataset(X_dev, Y_dev)\n",
    "print(f\"Loss on test dataset: {test_loss *100:.2f}%\")"
   ]
  },
  {
   "cell_type": "code",
   "execution_count": null,
   "id": "fdfe01b3",
   "metadata": {},
   "outputs": [],
   "source": []
  }
 ],
 "metadata": {
  "kernelspec": {
   "display_name": "Python 3 (ipykernel)",
   "language": "python",
   "name": "python3"
  },
  "language_info": {
   "codemirror_mode": {
    "name": "ipython",
    "version": 3
   },
   "file_extension": ".py",
   "mimetype": "text/x-python",
   "name": "python",
   "nbconvert_exporter": "python",
   "pygments_lexer": "ipython3",
   "version": "3.9.13"
  }
 },
 "nbformat": 4,
 "nbformat_minor": 5
}
